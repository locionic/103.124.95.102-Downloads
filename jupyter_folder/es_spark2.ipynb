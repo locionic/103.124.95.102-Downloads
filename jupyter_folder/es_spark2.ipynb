{
 "cells": [
  {
   "cell_type": "markdown",
   "metadata": {
    "id": "nO6YnJh8PyDn"
   },
   "source": [
    "# **Set up and install**\n",
    "\n"
   ]
  },
  {
   "cell_type": "markdown",
   "metadata": {
    "id": "c-urARbyqjRd"
   },
   "source": [
    "## *Set up*"
   ]
  },
  {
   "cell_type": "code",
   "execution_count": null,
   "metadata": {
    "id": "DRywxSl_FfEp"
   },
   "outputs": [],
   "source": [
    "!wget https://artifacts.elastic.co/downloads/elasticsearch/elasticsearch-7.6.2-linux-x86_64.tar.gz -q\n",
    "!tar -xzf elasticsearch-7.6.2-linux-x86_64.tar.gz\n",
    "!chown -R daemon:daemon elasticsearch-7.6.2\n",
    "# start server\n",
    "import os\n",
    "from subprocess import Popen, PIPE, STDOUT\n",
    "es_server = Popen(['elasticsearch-7.6.2/bin/elasticsearch'], \n",
    "                  stdout=PIPE, stderr=STDOUT,\n",
    "                  preexec_fn=lambda: os.setuid(1)  # as daemon\n",
    "                 )\n",
    "# wait a bit then test\n",
    "#!curl -X GET \"localhost:9200/\""
   ]
  },
  {
   "cell_type": "code",
   "execution_count": null,
   "metadata": {
    "id": "dAUJvz04H_68"
   },
   "outputs": [],
   "source": [
    "!apt-get install openjdk-8-jdk-headless -qq > /dev/null"
   ]
  },
  {
   "cell_type": "code",
   "execution_count": null,
   "metadata": {
    "colab": {
     "base_uri": "https://localhost:8080/"
    },
    "id": "PO7GqUM4Fhv2",
    "outputId": "58f4cb59-1c5c-409e-8c6c-c89ae4267319"
   },
   "outputs": [
    {
     "name": "stdout",
     "output_type": "stream",
     "text": [
      "--2021-12-16 04:38:33--  https://artifacts.elastic.co/downloads/elasticsearch-hadoop/elasticsearch-hadoop-7.6.2.zip\n",
      "Resolving artifacts.elastic.co (artifacts.elastic.co)... 34.120.127.130, 2600:1901:0:1d7::\n",
      "Connecting to artifacts.elastic.co (artifacts.elastic.co)|34.120.127.130|:443... connected.\n",
      "HTTP request sent, awaiting response... 200 OK\n",
      "Length: 8930910 (8.5M) [application/zip]\n",
      "Saving to: ‘elasticsearch-hadoop-7.6.2.zip’\n",
      "\n",
      "elasticsearch-hadoo 100%[===================>]   8.52M  19.2MB/s    in 0.4s    \n",
      "\n",
      "2021-12-16 04:38:34 (19.2 MB/s) - ‘elasticsearch-hadoop-7.6.2.zip’ saved [8930910/8930910]\n",
      "\n",
      "Archive:  elasticsearch-hadoop-7.6.2.zip\n",
      "   creating: elasticsearch-hadoop-7.6.2/\n",
      "  inflating: elasticsearch-hadoop-7.6.2/NOTICE.txt  \n",
      "  inflating: elasticsearch-hadoop-7.6.2/LICENSE.txt  \n",
      "  inflating: elasticsearch-hadoop-7.6.2/README.md  \n",
      "   creating: elasticsearch-hadoop-7.6.2/dist/\n",
      "  inflating: elasticsearch-hadoop-7.6.2/dist/elasticsearch-hadoop-7.6.2.jar  \n",
      "  inflating: elasticsearch-hadoop-7.6.2/dist/elasticsearch-hadoop-7.6.2-javadoc.jar  \n",
      "  inflating: elasticsearch-hadoop-7.6.2/dist/elasticsearch-hadoop-7.6.2-sources.jar  \n",
      "  inflating: elasticsearch-hadoop-7.6.2/dist/elasticsearch-hadoop-mr-7.6.2.jar  \n",
      "  inflating: elasticsearch-hadoop-7.6.2/dist/elasticsearch-hadoop-mr-7.6.2-javadoc.jar  \n",
      "  inflating: elasticsearch-hadoop-7.6.2/dist/elasticsearch-hadoop-mr-7.6.2-sources.jar  \n",
      "  inflating: elasticsearch-hadoop-7.6.2/dist/elasticsearch-hadoop-hive-7.6.2.jar  \n",
      "  inflating: elasticsearch-hadoop-7.6.2/dist/elasticsearch-hadoop-hive-7.6.2-javadoc.jar  \n",
      "  inflating: elasticsearch-hadoop-7.6.2/dist/elasticsearch-hadoop-hive-7.6.2-sources.jar  \n",
      "  inflating: elasticsearch-hadoop-7.6.2/dist/elasticsearch-hadoop-pig-7.6.2.jar  \n",
      "  inflating: elasticsearch-hadoop-7.6.2/dist/elasticsearch-hadoop-pig-7.6.2-javadoc.jar  \n",
      "  inflating: elasticsearch-hadoop-7.6.2/dist/elasticsearch-hadoop-pig-7.6.2-sources.jar  \n",
      "  inflating: elasticsearch-hadoop-7.6.2/dist/elasticsearch-spark-20_2.11-7.6.2.jar  \n",
      "  inflating: elasticsearch-hadoop-7.6.2/dist/elasticsearch-spark-20_2.11-7.6.2-javadoc.jar  \n",
      "  inflating: elasticsearch-hadoop-7.6.2/dist/elasticsearch-spark-20_2.11-7.6.2-sources.jar  \n",
      "  inflating: elasticsearch-hadoop-7.6.2/dist/elasticsearch-storm-7.6.2.jar  \n",
      "  inflating: elasticsearch-hadoop-7.6.2/dist/elasticsearch-storm-7.6.2-javadoc.jar  \n",
      "  inflating: elasticsearch-hadoop-7.6.2/dist/elasticsearch-storm-7.6.2-sources.jar  \n"
     ]
    }
   ],
   "source": [
    "!wget https://artifacts.elastic.co/downloads/elasticsearch-hadoop/elasticsearch-hadoop-7.6.2.zip\n",
    "!unzip elasticsearch-hadoop-7.6.2.zip"
   ]
  },
  {
   "cell_type": "code",
   "execution_count": null,
   "metadata": {
    "colab": {
     "base_uri": "https://localhost:8080/"
    },
    "id": "nB3AGcgFDDrJ",
    "outputId": "440b61fb-2517-49ea-91c0-8eea6a3a9f0f"
   },
   "outputs": [
    {
     "name": "stdout",
     "output_type": "stream",
     "text": [
      "^C\n"
     ]
    }
   ],
   "source": [
    "!wget -q https://archive.apache.org/dist/spark/spark-2.4.5/spark-2.4.5-bin-hadoop2.7.tgz"
   ]
  },
  {
   "cell_type": "code",
   "execution_count": null,
   "metadata": {
    "id": "-vul5BFUDKuM"
   },
   "outputs": [],
   "source": [
    "!tar -xzf spark-2.4.5-bin-hadoop2.7.tgz"
   ]
  },
  {
   "cell_type": "code",
   "execution_count": null,
   "metadata": {
    "id": "kUjrWhgjEEI6"
   },
   "outputs": [],
   "source": [
    "!pip install -q findspark"
   ]
  },
  {
   "cell_type": "code",
   "execution_count": null,
   "metadata": {
    "id": "NB7xf_LrEFtw"
   },
   "outputs": [],
   "source": [
    "import os\n",
    "os.environ[\"JAVA_HOME\"] = \"/usr/lib/jvm/java-8-openjdk-amd64\"\n",
    "os.environ[\"SPARK_HOME\"] = \"spark-2.4.5-bin-hadoop2.7\""
   ]
  },
  {
   "cell_type": "code",
   "execution_count": null,
   "metadata": {
    "id": "3TCKZdrnEZRT"
   },
   "outputs": [],
   "source": [
    "import findspark\n",
    "findspark.init()"
   ]
  },
  {
   "cell_type": "code",
   "execution_count": null,
   "metadata": {
    "colab": {
     "base_uri": "https://localhost:8080/",
     "height": 36
    },
    "id": "KbttRpCtEa60",
    "outputId": "cb2d2b30-0ca4-4b59-ee9d-943cb85007ee"
   },
   "outputs": [
    {
     "data": {
      "application/vnd.google.colaboratory.intrinsic+json": {
       "type": "string"
      },
      "text/plain": [
       "'spark-2.4.5-bin-hadoop2.7'"
      ]
     },
     "execution_count": 24,
     "metadata": {},
     "output_type": "execute_result"
    }
   ],
   "source": [
    "findspark.find()"
   ]
  },
  {
   "cell_type": "code",
   "execution_count": null,
   "metadata": {
    "id": "CIr2SMmLEeUH"
   },
   "outputs": [],
   "source": [
    "from pyspark.sql import SparkSession\n",
    "\n",
    "spark = SparkSession.builder\\\n",
    "        .master(\"local\")\\\n",
    "        .appName(\"Colab\")\\\n",
    "        .config('spark.ui.port', '4050')\\\n",
    "        .config(\"spark.driver.extraClassPath\", \"elasticsearch-hadoop-7.6.2/dist/elasticsearch-spark-20_2.11-7.6.2.jar\") \\\n",
    "        .config(\"spark.executor.memory\", \"4g\")\\\n",
    "        .config(\"spark.driver.memory\", \"4g\")\\\n",
    "        .config(\"spark.cores.max\", \"2\")\\\n",
    "        .getOrCreate()"
   ]
  },
  {
   "cell_type": "code",
   "execution_count": null,
   "metadata": {
    "colab": {
     "base_uri": "https://localhost:8080/",
     "height": 222
    },
    "id": "6O2bybhYEgl6",
    "outputId": "101362b5-7ad0-4334-b6aa-150089191dd9"
   },
   "outputs": [
    {
     "data": {
      "text/html": [
       "\n",
       "            <div>\n",
       "                <p><b>SparkSession - in-memory</b></p>\n",
       "                \n",
       "        <div>\n",
       "            <p><b>SparkContext</b></p>\n",
       "\n",
       "            <p><a href=\"http://fc181ec523e5:4050\">Spark UI</a></p>\n",
       "\n",
       "            <dl>\n",
       "              <dt>Version</dt>\n",
       "                <dd><code>v2.4.5</code></dd>\n",
       "              <dt>Master</dt>\n",
       "                <dd><code>local</code></dd>\n",
       "              <dt>AppName</dt>\n",
       "                <dd><code>Colab</code></dd>\n",
       "            </dl>\n",
       "        </div>\n",
       "        \n",
       "            </div>\n",
       "        "
      ],
      "text/plain": [
       "<pyspark.sql.session.SparkSession at 0x7efe6b73c7d0>"
      ]
     },
     "execution_count": 26,
     "metadata": {},
     "output_type": "execute_result"
    }
   ],
   "source": [
    "spark"
   ]
  },
  {
   "cell_type": "code",
   "execution_count": null,
   "metadata": {
    "colab": {
     "base_uri": "https://localhost:8080/"
    },
    "id": "ssNs59vwGBjo",
    "outputId": "8316b556-a7fe-4d33-be1a-5ff711dea426"
   },
   "outputs": [
    {
     "name": "stdout",
     "output_type": "stream",
     "text": [
      "{\n",
      "  \"name\" : \"fc181ec523e5\",\n",
      "  \"cluster_name\" : \"elasticsearch\",\n",
      "  \"cluster_uuid\" : \"q-Zgvl-ASaSxwvoEAKKyiQ\",\n",
      "  \"version\" : {\n",
      "    \"number\" : \"7.6.2\",\n",
      "    \"build_flavor\" : \"default\",\n",
      "    \"build_type\" : \"tar\",\n",
      "    \"build_hash\" : \"ef48eb35cf30adf4db14086e8aabd07ef6fb113f\",\n",
      "    \"build_date\" : \"2020-03-26T06:34:37.794943Z\",\n",
      "    \"build_snapshot\" : false,\n",
      "    \"lucene_version\" : \"8.4.0\",\n",
      "    \"minimum_wire_compatibility_version\" : \"6.8.0\",\n",
      "    \"minimum_index_compatibility_version\" : \"6.0.0-beta1\"\n",
      "  },\n",
      "  \"tagline\" : \"You Know, for Search\"\n",
      "}\n"
     ]
    }
   ],
   "source": [
    "!curl -X GET \"localhost:9200/\""
   ]
  },
  {
   "cell_type": "code",
   "execution_count": null,
   "metadata": {
    "id": "OjcfpIDgEh3Q"
   },
   "outputs": [],
   "source": [
    "import json\n",
    "\n",
    "es_write_conf = { \"es.nodes\": \"localhost\", \"es.batch.size.entries\": \"1\" ,\"es.port\" : \"9200\", \"es.resource\" : \"testindex/testdoc\", \"es.input.json\" : \"yes\", \"es.mapping.id\": \"doc_id\" }\n",
    "\n",
    "data = [ {'some_key': 'some_value', 'doc_id': 123}, {'some_key': 'some_value', 'doc_id': 456}, {'some_key': 'some_value', 'doc_id': 789} ]\n",
    "rdd = spark.sparkContext.parallelize(data)\n",
    "\n",
    "def format_data(x):\n",
    "    return (x['doc_id'], json.dumps(x))\n",
    "\n",
    "rdd = rdd.map(lambda x: format_data(x))\n",
    "\n",
    "# rdd.saveAsNewAPIHadoopFile( \\\n",
    "#     path='-', \\\n",
    "#     outputFormatClass=\"org.elasticsearch.hadoop.mr.EsOutputFormat\", \\\n",
    "#     keyClass=\"org.apache.hadoop.io.NullWritable\", \\\n",
    "#     valueClass=\"org.elasticsearch.hadoop.mr.LinkedMapWritable\", \\\n",
    "#     conf=es_write_conf)"
   ]
  },
  {
   "cell_type": "code",
   "execution_count": null,
   "metadata": {
    "id": "QRDGmy8NNi4g"
   },
   "outputs": [],
   "source": [
    "rdd.collect()"
   ]
  },
  {
   "cell_type": "code",
   "execution_count": null,
   "metadata": {
    "id": "4xSkSCwBOy2s"
   },
   "outputs": [],
   "source": [
    "rdd.saveAsNewAPIHadoopFile( \\\n",
    "    path='-', \\\n",
    "    outputFormatClass=\"org.elasticsearch.hadoop.mr.EsOutputFormat\", \\\n",
    "    keyClass=\"org.apache.hadoop.io.NullWritable\", \\\n",
    "    valueClass=\"org.elasticsearch.hadoop.mr.LinkedMapWritable\", \\\n",
    "    conf=es_write_conf)"
   ]
  },
  {
   "cell_type": "code",
   "execution_count": null,
   "metadata": {
    "id": "W3oQecy8P_19"
   },
   "outputs": [],
   "source": [
    "!curl -X GET 'localhost:9200/testindex/_search'"
   ]
  },
  {
   "cell_type": "markdown",
   "metadata": {
    "id": "PzPMwU62s_Py"
   },
   "source": [
    "## *Install sample data*"
   ]
  },
  {
   "cell_type": "code",
   "execution_count": null,
   "metadata": {
    "colab": {
     "base_uri": "https://localhost:8080/"
    },
    "id": "3USmf9w53rbE",
    "outputId": "9799cbf9-afc8-444d-a5ab-b96a215bd393"
   },
   "outputs": [
    {
     "name": "stdout",
     "output_type": "stream",
     "text": [
      "--2021-12-16 04:40:05--  http://files.grouplens.org/datasets/movielens/ml-latest-small.zip\n",
      "Resolving files.grouplens.org (files.grouplens.org)... 128.101.65.152\n",
      "Connecting to files.grouplens.org (files.grouplens.org)|128.101.65.152|:80... connected.\n",
      "HTTP request sent, awaiting response... 200 OK\n",
      "Length: 978202 (955K) [application/zip]\n",
      "Saving to: ‘ml-latest-small.zip’\n",
      "\n",
      "ml-latest-small.zip 100%[===================>] 955.28K  4.54MB/s    in 0.2s    \n",
      "\n",
      "2021-12-16 04:40:06 (4.54 MB/s) - ‘ml-latest-small.zip’ saved [978202/978202]\n",
      "\n",
      "Archive:  ml-latest-small.zip\n",
      "   creating: ml-latest-small/\n",
      "  inflating: ml-latest-small/links.csv  \n",
      "  inflating: ml-latest-small/tags.csv  \n",
      "  inflating: ml-latest-small/ratings.csv  \n",
      "  inflating: ml-latest-small/README.txt  \n",
      "  inflating: ml-latest-small/movies.csv  \n"
     ]
    }
   ],
   "source": [
    "!wget http://files.grouplens.org/datasets/movielens/ml-latest-small.zip\n",
    "!unzip ml-latest-small.zip\n",
    "PATH_TO_DATA = \"ml-latest-small\""
   ]
  },
  {
   "cell_type": "markdown",
   "metadata": {
    "id": "G6u1QncM4RA_"
   },
   "source": [
    "## *Install elasticsearch from pypi to use a client instance*"
   ]
  },
  {
   "cell_type": "code",
   "execution_count": null,
   "metadata": {
    "colab": {
     "base_uri": "https://localhost:8080/"
    },
    "id": "d7hxOhQqqtTU",
    "outputId": "f7047f9c-4cff-4086-c35a-c5a1c9326b18"
   },
   "outputs": [
    {
     "name": "stdout",
     "output_type": "stream",
     "text": [
      "Collecting elasticsearch\n",
      "  Downloading elasticsearch-7.16.1-py2.py3-none-any.whl (385 kB)\n",
      "\u001b[?25l\r",
      "\u001b[K     |▉                               | 10 kB 18.2 MB/s eta 0:00:01\r",
      "\u001b[K     |█▊                              | 20 kB 21.5 MB/s eta 0:00:01\r",
      "\u001b[K     |██▌                             | 30 kB 14.0 MB/s eta 0:00:01\r",
      "\u001b[K     |███▍                            | 40 kB 9.5 MB/s eta 0:00:01\r",
      "\u001b[K     |████▎                           | 51 kB 5.2 MB/s eta 0:00:01\r",
      "\u001b[K     |█████                           | 61 kB 5.2 MB/s eta 0:00:01\r",
      "\u001b[K     |██████                          | 71 kB 5.6 MB/s eta 0:00:01\r",
      "\u001b[K     |██████▉                         | 81 kB 6.2 MB/s eta 0:00:01\r",
      "\u001b[K     |███████▋                        | 92 kB 6.1 MB/s eta 0:00:01\r",
      "\u001b[K     |████████▌                       | 102 kB 5.0 MB/s eta 0:00:01\r",
      "\u001b[K     |█████████▍                      | 112 kB 5.0 MB/s eta 0:00:01\r",
      "\u001b[K     |██████████▏                     | 122 kB 5.0 MB/s eta 0:00:01\r",
      "\u001b[K     |███████████                     | 133 kB 5.0 MB/s eta 0:00:01\r",
      "\u001b[K     |████████████                    | 143 kB 5.0 MB/s eta 0:00:01\r",
      "\u001b[K     |████████████▊                   | 153 kB 5.0 MB/s eta 0:00:01\r",
      "\u001b[K     |█████████████▋                  | 163 kB 5.0 MB/s eta 0:00:01\r",
      "\u001b[K     |██████████████▍                 | 174 kB 5.0 MB/s eta 0:00:01\r",
      "\u001b[K     |███████████████▎                | 184 kB 5.0 MB/s eta 0:00:01\r",
      "\u001b[K     |████████████████▏               | 194 kB 5.0 MB/s eta 0:00:01\r",
      "\u001b[K     |█████████████████               | 204 kB 5.0 MB/s eta 0:00:01\r",
      "\u001b[K     |█████████████████▉              | 215 kB 5.0 MB/s eta 0:00:01\r",
      "\u001b[K     |██████████████████▊             | 225 kB 5.0 MB/s eta 0:00:01\r",
      "\u001b[K     |███████████████████▌            | 235 kB 5.0 MB/s eta 0:00:01\r",
      "\u001b[K     |████████████████████▍           | 245 kB 5.0 MB/s eta 0:00:01\r",
      "\u001b[K     |█████████████████████▎          | 256 kB 5.0 MB/s eta 0:00:01\r",
      "\u001b[K     |██████████████████████          | 266 kB 5.0 MB/s eta 0:00:01\r",
      "\u001b[K     |███████████████████████         | 276 kB 5.0 MB/s eta 0:00:01\r",
      "\u001b[K     |███████████████████████▉        | 286 kB 5.0 MB/s eta 0:00:01\r",
      "\u001b[K     |████████████████████████▋       | 296 kB 5.0 MB/s eta 0:00:01\r",
      "\u001b[K     |█████████████████████████▌      | 307 kB 5.0 MB/s eta 0:00:01\r",
      "\u001b[K     |██████████████████████████▍     | 317 kB 5.0 MB/s eta 0:00:01\r",
      "\u001b[K     |███████████████████████████▏    | 327 kB 5.0 MB/s eta 0:00:01\r",
      "\u001b[K     |████████████████████████████    | 337 kB 5.0 MB/s eta 0:00:01\r",
      "\u001b[K     |████████████████████████████▉   | 348 kB 5.0 MB/s eta 0:00:01\r",
      "\u001b[K     |█████████████████████████████▊  | 358 kB 5.0 MB/s eta 0:00:01\r",
      "\u001b[K     |██████████████████████████████▋ | 368 kB 5.0 MB/s eta 0:00:01\r",
      "\u001b[K     |███████████████████████████████▍| 378 kB 5.0 MB/s eta 0:00:01\r",
      "\u001b[K     |████████████████████████████████| 385 kB 5.0 MB/s \n",
      "\u001b[?25hRequirement already satisfied: urllib3<2,>=1.21.1 in /usr/local/lib/python3.7/dist-packages (from elasticsearch) (1.24.3)\n",
      "Requirement already satisfied: certifi in /usr/local/lib/python3.7/dist-packages (from elasticsearch) (2021.10.8)\n",
      "Installing collected packages: elasticsearch\n",
      "Successfully installed elasticsearch-7.16.1\n"
     ]
    }
   ],
   "source": [
    "!pip install elasticsearch"
   ]
  },
  {
   "cell_type": "code",
   "execution_count": null,
   "metadata": {
    "id": "q1WwuZmarZRl"
   },
   "outputs": [],
   "source": [
    "import time\n",
    "from elasticsearch import Elasticsearch\n",
    "es = Elasticsearch([{'host': 'localhost', 'port': 9200}], timeout=60, max_retries=10, retry_on_timeout=True)"
   ]
  },
  {
   "cell_type": "code",
   "execution_count": null,
   "metadata": {
    "colab": {
     "base_uri": "https://localhost:8080/"
    },
    "id": "0Xu1e3YAtj7B",
    "outputId": "4a07be05-a260-4476-ceb6-098d59c06fc0"
   },
   "outputs": [
    {
     "data": {
      "text/plain": [
       "{'cluster_name': 'elasticsearch',\n",
       " 'cluster_uuid': 'q-Zgvl-ASaSxwvoEAKKyiQ',\n",
       " 'name': 'fc181ec523e5',\n",
       " 'tagline': 'You Know, for Search',\n",
       " 'version': {'build_date': '2020-03-26T06:34:37.794943Z',\n",
       "  'build_flavor': 'default',\n",
       "  'build_hash': 'ef48eb35cf30adf4db14086e8aabd07ef6fb113f',\n",
       "  'build_snapshot': False,\n",
       "  'build_type': 'tar',\n",
       "  'lucene_version': '8.4.0',\n",
       "  'minimum_index_compatibility_version': '6.0.0-beta1',\n",
       "  'minimum_wire_compatibility_version': '6.8.0',\n",
       "  'number': '7.6.2'}}"
      ]
     },
     "execution_count": 54,
     "metadata": {},
     "output_type": "execute_result"
    }
   ],
   "source": [
    "es.info()"
   ]
  },
  {
   "cell_type": "markdown",
   "metadata": {
    "id": "I__xAVksP34k"
   },
   "source": [
    "# **Insert**"
   ]
  },
  {
   "cell_type": "markdown",
   "metadata": {
    "id": "lxwvEP4EqpDu"
   },
   "source": [
    "## *Spark insert to ES*"
   ]
  },
  {
   "cell_type": "markdown",
   "metadata": {
    "id": "PpulQ0rQ6-FR"
   },
   "source": [
    "### Load rating data"
   ]
  },
  {
   "cell_type": "code",
   "execution_count": null,
   "metadata": {
    "colab": {
     "base_uri": "https://localhost:8080/"
    },
    "id": "dFIzvlgP7A-5",
    "outputId": "082677bd-ac2b-45a9-de74-6b5a2eabe09f"
   },
   "outputs": [
    {
     "name": "stdout",
     "output_type": "stream",
     "text": [
      "Number of ratings: 100836\n",
      "Sample of ratings:\n",
      "+------+-------+------+---------+\n",
      "|userId|movieId|rating|timestamp|\n",
      "+------+-------+------+---------+\n",
      "|     1|      1|   4.0|964982703|\n",
      "|     1|      3|   4.0|964981247|\n",
      "|     1|      6|   4.0|964982224|\n",
      "|     1|     47|   5.0|964983815|\n",
      "|     1|     50|   5.0|964982931|\n",
      "+------+-------+------+---------+\n",
      "only showing top 5 rows\n",
      "\n"
     ]
    }
   ],
   "source": [
    "ratings = spark.read.csv(PATH_TO_DATA + \"/ratings.csv\", header=True, inferSchema=True)\n",
    "ratings.cache()\n",
    "print(\"Number of ratings: {}\".format(ratings.count()))\n",
    "print(\"Sample of ratings:\")\n",
    "ratings.show(5)"
   ]
  },
  {
   "cell_type": "markdown",
   "metadata": {
    "id": "_DTTaNTz7Dkh"
   },
   "source": [
    "### Insert by format(\"es\")"
   ]
  },
  {
   "cell_type": "code",
   "execution_count": null,
   "metadata": {
    "colab": {
     "base_uri": "https://localhost:8080/"
    },
    "id": "v96XASiAvvxk",
    "outputId": "af3116b2-d557-4514-aa65-c110a162786f"
   },
   "outputs": [
    {
     "name": "stdout",
     "output_type": "stream",
     "text": [
      "Dataframe count: 100836\n",
      "ES index count:  100836\n",
      "Time spark insert to es by format('es'): 12.113914966583252\n"
     ]
    }
   ],
   "source": [
    "# write ratings data\n",
    "current_time = time.time()\n",
    "ratings.write.format(\"es\").save(\"ratings\")\n",
    "time_spark_insert_to_es = time.time() - current_time\n",
    "num_ratings_es = es.count(index=\"ratings\")['count']\n",
    "num_ratings_df = ratings.count()\n",
    "# check write went ok\n",
    "print(\"Dataframe count: {}\".format(num_ratings_df))\n",
    "print(\"ES index count:  {}\".format(num_ratings_es))\n",
    "print(\"Time spark insert to es by format('es'): {}\".format(time_spark_insert_to_es))"
   ]
  },
  {
   "cell_type": "code",
   "execution_count": null,
   "metadata": {
    "id": "3ncX-XaPwI_5"
   },
   "outputs": [],
   "source": [
    "# test things out by retrieving a few rating event documents from Elasticsearch\n",
    "es.search(index=\"ratings\", q=\"*\", size=3)"
   ]
  },
  {
   "cell_type": "markdown",
   "metadata": {
    "id": "2459TBEtgEUC"
   },
   "source": [
    "### Insert by saveAsNewAPIHadoopFile()"
   ]
  },
  {
   "cell_type": "code",
   "execution_count": null,
   "metadata": {
    "id": "CK-tHCMsYd57"
   },
   "outputs": [],
   "source": [
    "rddtest2 = ratings.rdd.map(lambda x : json.dumps({'userId': x[0], 'movieId': x[1], 'rating': x[2], 'timestamp': x[3]}))"
   ]
  },
  {
   "cell_type": "code",
   "execution_count": null,
   "metadata": {
    "id": "6PxE328JYyC1"
   },
   "outputs": [],
   "source": [
    "rddtest3 = rddtest2.zipWithIndex().map(lambda x: (x[1], x[0]))"
   ]
  },
  {
   "cell_type": "code",
   "execution_count": null,
   "metadata": {
    "id": "a_RV6ChXb3AM"
   },
   "outputs": [],
   "source": [
    "es_write_conf = { \"es.nodes\": \"localhost\",\"es.port\" : \"9200\", \"es.resource\" : \"testindex3/testdoc\", \"es.input.json\" : \"yes\" }\n",
    "current_time = time.time()\n",
    "rddtest3.saveAsNewAPIHadoopFile( \\\n",
    "    path='-', \\\n",
    "    outputFormatClass=\"org.elasticsearch.hadoop.mr.EsOutputFormat\", \\\n",
    "    keyClass=\"org.apache.hadoop.io.NullWritable\", \\\n",
    "    valueClass=\"org.elasticsearch.hadoop.mr.LinkedMapWritable\", \\\n",
    "    conf=es_write_conf)\n",
    "print(\"Time spark insert to es by saveAsNewAPIHadoopFIle(): {}\".format(time.time() - current_time))"
   ]
  },
  {
   "cell_type": "code",
   "execution_count": null,
   "metadata": {
    "id": "sMQEb2O5fFBW"
   },
   "outputs": [],
   "source": [
    "es.search(index=\"testindex3\", q=\"*\", size=3)"
   ]
  },
  {
   "cell_type": "markdown",
   "metadata": {
    "id": "Lo2QGMx64Ajm"
   },
   "source": [
    "## *Normally insert to ES*"
   ]
  },
  {
   "cell_type": "code",
   "execution_count": null,
   "metadata": {
    "id": "J2_1NT6fy9C2"
   },
   "outputs": [],
   "source": [
    "import pandas as pd\n",
    "df = pd.read_csv(PATH_TO_DATA + '/ratings.csv')\n",
    "print(df)"
   ]
  },
  {
   "cell_type": "code",
   "execution_count": null,
   "metadata": {
    "id": "cDP6jsFn1l7h"
   },
   "outputs": [],
   "source": [
    "documents = df.to_dict(orient='records')"
   ]
  },
  {
   "cell_type": "code",
   "execution_count": null,
   "metadata": {
    "id": "XIZW6H8fyUYE"
   },
   "outputs": [],
   "source": [
    "from elasticsearch.helpers import bulk\n",
    "\n",
    "current_time = time.time()\n",
    "print(bulk(es, documents, index='test-ratings', doc_type='test-ratings-type', raise_on_error=True))\n",
    "normally_insert_time = time.time() - current_time\n",
    "print(normally_insert_time)"
   ]
  },
  {
   "cell_type": "code",
   "execution_count": null,
   "metadata": {
    "id": "2x9swFTw2IF-"
   },
   "outputs": [],
   "source": [
    "es.search(index=\"test-ratings\", q=\"*\", size=3)"
   ]
  },
  {
   "cell_type": "markdown",
   "metadata": {
    "id": "g4VwXR-EUUnH"
   },
   "source": [
    "## *Parallel insert*"
   ]
  },
  {
   "cell_type": "code",
   "execution_count": null,
   "metadata": {
    "id": "xg2vW2BdcX5T"
   },
   "outputs": [],
   "source": [
    "from elasticsearch.helpers import parallel_bulk\n",
    "from collections import deque\n",
    "\n",
    "current_time = time.time()\n",
    "deque(parallel_bulk(es, documents, index=\"ratings-test-parallel\", thread_count=2, queue_size=2), maxlen = 0)\n",
    "print(\"Time parallel insert: {}\".format(time.time() - current_time))"
   ]
  },
  {
   "cell_type": "code",
   "execution_count": null,
   "metadata": {
    "id": "rg2V4Ei_dCOz"
   },
   "outputs": [],
   "source": [
    "!curl -XPUT \"http://localhost:9200/ratings-test-parallel/_settings\" -d '{ \"index\" : { \"max_result_window\" : 200000 } }' -H \"Content-Type: application/json\""
   ]
  },
  {
   "cell_type": "code",
   "execution_count": null,
   "metadata": {
    "id": "_ihCu0i8c5WI"
   },
   "outputs": [],
   "source": [
    "res = es.search(index=\"ratings-test-parallel\", size=200000)\n",
    "len(res['hits']['hits'])"
   ]
  },
  {
   "cell_type": "markdown",
   "metadata": {
    "id": "J0SwQFMkQA3j"
   },
   "source": [
    "# **Query**"
   ]
  },
  {
   "cell_type": "markdown",
   "metadata": {
    "id": "E1tpbnVKGg-z"
   },
   "source": [
    "## Spark query"
   ]
  },
  {
   "cell_type": "code",
   "execution_count": null,
   "metadata": {
    "id": "sFvuO7nPNTmK"
   },
   "outputs": [],
   "source": [
    "q0 =\"\"\"{\n",
    "  \"match\": {\n",
    "      \"movieId\": 3\n",
    "      }\n",
    "}\"\"\"\n",
    "\n",
    "q1 = \"\"\"\n",
    "  {\n",
    "    \"match\": {\n",
    "      \"rating\": 4.0\n",
    "    }\n",
    "  }\n",
    "\"\"\"\n",
    "\n",
    "q = \"\"\"\n",
    "  {\n",
    "    \"match_all\": {}\n",
    "  }\n",
    "\"\"\""
   ]
  },
  {
   "cell_type": "markdown",
   "metadata": {
    "id": "KFFrFsRsGw9X"
   },
   "source": [
    "### Use newApiHadoopRDD()"
   ]
  },
  {
   "cell_type": "code",
   "execution_count": null,
   "metadata": {
    "colab": {
     "base_uri": "https://localhost:8080/"
    },
    "id": "uFjyGsdiyIL0",
    "outputId": "35d2567b-ba44-4f52-f60c-6491fbc12c22"
   },
   "outputs": [
    {
     "name": "stdout",
     "output_type": "stream",
     "text": [
      "Time run newApiHadoopRDD: 82.85260438919067\n"
     ]
    },
    {
     "data": {
      "text/plain": [
       "52"
      ]
     },
     "execution_count": 62,
     "metadata": {},
     "output_type": "execute_result"
    }
   ],
   "source": [
    "es_read_conf = {\n",
    "    \"es.nodes\" : \"localhost\",\n",
    "    \"es.port\" : \"9200\",\n",
    "    \"es.resource\" : \"ratings/\",\n",
    "    \"es.query\" : q0\n",
    "}\n",
    "current_time = time.time()\n",
    "for i in range(1000):\n",
    "  es_rddtestest = spark.sparkContext.newAPIHadoopRDD(\n",
    "        inputFormatClass=\"org.elasticsearch.hadoop.mr.EsInputFormat\",\n",
    "        keyClass=\"org.apache.hadoop.io.NullWritable\", \n",
    "        valueClass=\"org.elasticsearch.hadoop.mr.LinkedMapWritable\", \n",
    "        conf=es_read_conf)\n",
    "print(\"Time run newApiHadoopRDD: {}\".format(time.time() - current_time))\n",
    "es_rddtestest.count()"
   ]
  },
  {
   "cell_type": "code",
   "execution_count": null,
   "metadata": {
    "colab": {
     "base_uri": "https://localhost:8080/"
    },
    "id": "wd3HV-hMGWSG",
    "outputId": "11ed37f4-e5bc-4aa2-bde7-ffcaf32042e6"
   },
   "outputs": [
    {
     "name": "stdout",
     "output_type": "stream",
     "text": [
      "Time run newApiHadoopRDD: 85.26038980484009\n"
     ]
    },
    {
     "data": {
      "text/plain": [
       "100836"
      ]
     },
     "execution_count": 48,
     "metadata": {},
     "output_type": "execute_result"
    }
   ],
   "source": [
    "es_read_conf = {\n",
    "    \"es.nodes\" : \"localhost\",\n",
    "    \"es.port\" : \"9200\",\n",
    "    \"es.resource\" : \"ratings/\",\n",
    "    \"es.query\" : q\n",
    "}\n",
    "current_time = time.time()\n",
    "for i in range(1000):\n",
    "  es_rdd = spark.sparkContext.newAPIHadoopRDD(\n",
    "      inputFormatClass=\"org.elasticsearch.hadoop.mr.EsInputFormat\",\n",
    "      keyClass=\"org.apache.hadoop.io.NullWritable\", \n",
    "      valueClass=\"org.elasticsearch.hadoop.mr.LinkedMapWritable\", \n",
    "      conf=es_read_conf)\n",
    "print(\"Time run newApiHadoopRDD: {}\".format(time.time() - current_time))\n",
    "es_rdd.count()"
   ]
  },
  {
   "cell_type": "markdown",
   "metadata": {
    "id": "-rbQ5y0qG3o8"
   },
   "source": [
    "### Use format(\"es\")"
   ]
  },
  {
   "cell_type": "code",
   "execution_count": null,
   "metadata": {
    "colab": {
     "base_uri": "https://localhost:8080/"
    },
    "id": "xFQCSsaMypzq",
    "outputId": "fe06a8fe-89ff-4bdc-9e27-27de2e6cd2f6"
   },
   "outputs": [
    {
     "name": "stdout",
     "output_type": "stream",
     "text": [
      "Time run format('es'): 14.306141138076782\n"
     ]
    },
    {
     "data": {
      "text/plain": [
       "52"
      ]
     },
     "execution_count": 61,
     "metadata": {},
     "output_type": "execute_result"
    }
   ],
   "source": [
    "current_time = time.time()\n",
    "for i in range(1000):\n",
    "  spark_dftesttest = spark.read.format(\"es\").option(\"es.query\", q0).load(\"ratings\")\n",
    "print(\"Time run format('es'): {}\".format(time.time() - current_time))\n",
    "spark_dftesttest.count()"
   ]
  },
  {
   "cell_type": "code",
   "execution_count": null,
   "metadata": {
    "colab": {
     "base_uri": "https://localhost:8080/"
    },
    "id": "Tmb1TRZNHC7w",
    "outputId": "8290fda1-bbcc-4a38-bf40-5e6e7140b563"
   },
   "outputs": [
    {
     "name": "stdout",
     "output_type": "stream",
     "text": [
      "Time run format('es'): 7.898252725601196\n"
     ]
    },
    {
     "data": {
      "text/plain": [
       "100836"
      ]
     },
     "execution_count": 50,
     "metadata": {},
     "output_type": "execute_result"
    }
   ],
   "source": [
    "current_time = time.time()\n",
    "for i in range(1000):\n",
    "  spark_df = spark.read.format(\"es\").option(\"es.query\", q).load(\"ratings\")\n",
    "print(\"Time run format('es'): {}\".format(time.time() - current_time))\n",
    "spark_df.count()"
   ]
  },
  {
   "cell_type": "markdown",
   "metadata": {
    "id": "zeLK4EHROxnY"
   },
   "source": [
    "## Normally query"
   ]
  },
  {
   "cell_type": "code",
   "execution_count": null,
   "metadata": {
    "colab": {
     "base_uri": "https://localhost:8080/"
    },
    "id": "vMFUG11QTRd7",
    "outputId": "d0387e22-8616-40ea-8953-1a64eef50d79"
   },
   "outputs": [
    {
     "name": "stdout",
     "output_type": "stream",
     "text": [
      "{\"acknowledged\":true}"
     ]
    }
   ],
   "source": [
    "!curl -XPUT \"http://localhost:9200/ratings/_settings\" -d '{ \"index\" : { \"max_result_window\" : 200000 } }' -H \"Content-Type: application/json\""
   ]
  },
  {
   "cell_type": "code",
   "execution_count": null,
   "metadata": {
    "colab": {
     "base_uri": "https://localhost:8080/"
    },
    "id": "lj_hO4jFy8BP",
    "outputId": "f2a47854-be84-44ff-978b-f99e98b51bd3"
   },
   "outputs": [
    {
     "name": "stdout",
     "output_type": "stream",
     "text": [
      "Time run normally query: 4.378681421279907\n"
     ]
    },
    {
     "data": {
      "text/plain": [
       "52"
      ]
     },
     "execution_count": 60,
     "metadata": {},
     "output_type": "execute_result"
    }
   ],
   "source": [
    "current_time = time.time()\n",
    "for i in range(1000):\n",
    "  restestesetest = es.search(index=\"ratings\", query={\"match\": {\n",
    "        \"movieId\": 3\n",
    "        }}, size=52)\n",
    "print(\"Time run normally query: {}\".format(time.time() - current_time))\n",
    "len(restestesetest['hits']['hits'])"
   ]
  },
  {
   "cell_type": "code",
   "execution_count": null,
   "metadata": {
    "colab": {
     "base_uri": "https://localhost:8080/"
    },
    "id": "sutyxup6Pgi2",
    "outputId": "8a20e799-147f-4133-f5a8-786a839fffe1"
   },
   "outputs": [
    {
     "name": "stdout",
     "output_type": "stream",
     "text": [
      "Time run normally query: 1901.0982508659363\n"
     ]
    },
    {
     "data": {
      "text/plain": [
       "100836"
      ]
     },
     "execution_count": 51,
     "metadata": {},
     "output_type": "execute_result"
    }
   ],
   "source": [
    "current_time = time.time()\n",
    "for i in range(1000):\n",
    "  res = es.search(index=\"ratings\", query={\"match_all\": {}}, size=200000)\n",
    "print(\"Time run normally query: {}\".format(time.time() - current_time))\n",
    "len(res['hits']['hits'])"
   ]
  },
  {
   "cell_type": "markdown",
   "metadata": {
    "id": "eLToWgqsUgUT"
   },
   "source": [
    "## *Multi query*"
   ]
  },
  {
   "cell_type": "code",
   "execution_count": null,
   "metadata": {
    "colab": {
     "base_uri": "https://localhost:8080/"
    },
    "id": "s-ES7TeTUi4P",
    "outputId": "98e5d172-99c7-4c38-a4d6-38a147e5e99b"
   },
   "outputs": [
    {
     "name": "stdout",
     "output_type": "stream",
     "text": [
      "Test multi queries time: 3.807823896408081\n"
     ]
    }
   ],
   "source": [
    "import json\n",
    "import logging\n",
    "from elasticsearch import exceptions as es_exceptions\n",
    "\n",
    "def msearch(es_conn, queries):\n",
    "    request = ''\n",
    "    for each in queries:\n",
    "        request += '%s \\n' %json.dumps(each)\n",
    "    return es.msearch(body = request)\n",
    "\n",
    "queries = []\n",
    "for i in range(1000):\n",
    "  queries.append(\n",
    "    {\"index\": \"ratings\"}\n",
    "  )\n",
    "  queries.append(\n",
    "      {\"query\": {\n",
    "        \"match\": {\n",
    "          \"movieId\": 3\n",
    "          }\n",
    "        },\"size\": 26818\n",
    "      }\n",
    "  )\n",
    "# queries.append(\n",
    "#     {\"index\": \"ratings\"}\n",
    "# )\n",
    "# queries.append(\n",
    "#     {\"query\": {\n",
    "#       \"match_all\": {}\n",
    "#       },\"size\": 200000\n",
    "#     }\n",
    "# )\n",
    "# queries.append(\n",
    "#     {\"index\": \"ratings\"}\n",
    "# )\n",
    "# queries.append(\n",
    "#     {\"query\": {\n",
    "#       \"match\": {\n",
    "#         \"movieId\": 3\n",
    "#         }\n",
    "#       },\"size\": 200000\n",
    "#     }\n",
    "# )\n",
    "# queries.append(\n",
    "#     {\"index\": \"ratings\"}\n",
    "# )\n",
    "# queries.append(\n",
    "#   {\"query\": {\n",
    "#       \"match\": {\n",
    "#         \"rating\": 4.0\n",
    "#       }\n",
    "#     },\"size\": 200000\n",
    "#   }\n",
    "# )\n",
    "current_time = time.time()\n",
    "q_results = msearch(es, queries)\n",
    "print(\"Test multi queries time: {}\".format(time.time() - current_time))"
   ]
  },
  {
   "cell_type": "code",
   "execution_count": null,
   "metadata": {
    "colab": {
     "base_uri": "https://localhost:8080/"
    },
    "id": "FbcH3pL-osUo",
    "outputId": "c2d18455-7ef9-4654-cb8a-77a108bf48b4"
   },
   "outputs": [
    {
     "data": {
      "text/plain": [
       "100836"
      ]
     },
     "execution_count": 41,
     "metadata": {},
     "output_type": "execute_result"
    }
   ],
   "source": [
    "len(q_results[\"responses\"][0]['hits']['hits'])"
   ]
  },
  {
   "cell_type": "code",
   "execution_count": null,
   "metadata": {
    "colab": {
     "base_uri": "https://localhost:8080/"
    },
    "id": "B9-F_KX_pUFt",
    "outputId": "1ac38b11-9be8-49e9-da98-7b66b65e96e3"
   },
   "outputs": [
    {
     "data": {
      "text/plain": [
       "52"
      ]
     },
     "execution_count": 42,
     "metadata": {},
     "output_type": "execute_result"
    }
   ],
   "source": [
    "len(q_results[\"responses\"][1]['hits']['hits'])"
   ]
  },
  {
   "cell_type": "code",
   "execution_count": null,
   "metadata": {
    "colab": {
     "base_uri": "https://localhost:8080/"
    },
    "id": "ivnkPeuUpVEX",
    "outputId": "89316557-a51d-42ec-a9a2-a2781f3c7109"
   },
   "outputs": [
    {
     "data": {
      "text/plain": [
       "26818"
      ]
     },
     "execution_count": 43,
     "metadata": {},
     "output_type": "execute_result"
    }
   ],
   "source": [
    "len(q_results[\"responses\"][2]['hits']['hits'])"
   ]
  },
  {
   "cell_type": "code",
   "execution_count": null,
   "metadata": {
    "colab": {
     "base_uri": "https://localhost:8080/"
    },
    "id": "Rg1vswIBhJqU",
    "outputId": "e0d6a70b-78c0-4418-d358-4efd2f4c749d"
   },
   "outputs": [
    {
     "name": "stdout",
     "output_type": "stream",
     "text": [
      "Test queries time: 2.6177937984466553\n"
     ]
    }
   ],
   "source": [
    "current_time = time.time()\n",
    "res1 = es.search(index=\"ratings\", query={\"match_all\": {}}, size=200000)\n",
    "res2 = es.search(index=\"ratings\", query={\"match\": {\"movieId\": 3}}, size=200000)\n",
    "res3 = es.search(index=\"ratings\", query={\"match\": {\"rating\": 4.0}}, size=200000)\n",
    "print(\"Test queries time: {}\".format(time.time() - current_time))"
   ]
  },
  {
   "cell_type": "code",
   "execution_count": null,
   "metadata": {
    "colab": {
     "base_uri": "https://localhost:8080/"
    },
    "id": "ET715iKLr6A2",
    "outputId": "a4fdcdb0-aba0-473b-ebbe-f2562c1ad0cb"
   },
   "outputs": [
    {
     "data": {
      "text/plain": [
       "100836"
      ]
     },
     "execution_count": 45,
     "metadata": {},
     "output_type": "execute_result"
    }
   ],
   "source": [
    "len(res1['hits']['hits'])"
   ]
  },
  {
   "cell_type": "code",
   "execution_count": null,
   "metadata": {
    "colab": {
     "base_uri": "https://localhost:8080/"
    },
    "id": "yAJX-7HCr8rO",
    "outputId": "4f1fddbf-d3c8-4249-bcc6-cbe3ab892329"
   },
   "outputs": [
    {
     "data": {
      "text/plain": [
       "52"
      ]
     },
     "execution_count": 46,
     "metadata": {},
     "output_type": "execute_result"
    }
   ],
   "source": [
    "len(res2['hits']['hits'])"
   ]
  },
  {
   "cell_type": "code",
   "execution_count": null,
   "metadata": {
    "colab": {
     "base_uri": "https://localhost:8080/"
    },
    "id": "ifjHm5Tyr-AU",
    "outputId": "e52d8f7e-b1d7-4734-9239-231f687344a2"
   },
   "outputs": [
    {
     "data": {
      "text/plain": [
       "26818"
      ]
     },
     "execution_count": 47,
     "metadata": {},
     "output_type": "execute_result"
    }
   ],
   "source": [
    "len(res3['hits']['hits'])"
   ]
  }
 ],
 "metadata": {
  "colab": {
   "collapsed_sections": [
    "nO6YnJh8PyDn",
    "I__xAVksP34k",
    "J0SwQFMkQA3j"
   ],
   "name": "es-spark2.ipynb",
   "provenance": []
  },
  "kernelspec": {
   "display_name": "Python 3",
   "language": "python",
   "name": "python3"
  },
  "language_info": {
   "codemirror_mode": {
    "name": "ipython",
    "version": 3
   },
   "file_extension": ".py",
   "mimetype": "text/x-python",
   "name": "python",
   "nbconvert_exporter": "python",
   "pygments_lexer": "ipython3",
   "version": "3.7.9"
  }
 },
 "nbformat": 4,
 "nbformat_minor": 1
}
