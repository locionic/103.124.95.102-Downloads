{
 "cells": [
  {
   "cell_type": "markdown",
   "metadata": {
    "id": "nO6YnJh8PyDn"
   },
   "source": [
    "# **Set up and install**\n",
    "\n"
   ]
  },
  {
   "cell_type": "markdown",
   "metadata": {
    "id": "c-urARbyqjRd"
   },
   "source": [
    "## *Set up*"
   ]
  },
  {
   "cell_type": "code",
   "execution_count": null,
   "metadata": {
    "id": "dAUJvz04H_68"
   },
   "outputs": [],
   "source": [
    "!apt-get install openjdk-8-jdk-headless -qq > /dev/null"
   ]
  },
  {
   "cell_type": "code",
   "execution_count": 1,
   "metadata": {
    "id": "NB7xf_LrEFtw"
   },
   "outputs": [],
   "source": [
    "import os\n",
    "os.environ[\"JAVA_HOME\"] = \"/usr/lib/jvm/java-11-openjdk-amd64\"\n",
    "os.environ[\"SPARK_HOME\"] = \"spark-3.0.3-bin-hadoop2.7\""
   ]
  },
  {
   "cell_type": "code",
   "execution_count": 2,
   "metadata": {},
   "outputs": [
    {
     "name": "stdout",
     "output_type": "stream",
     "text": [
      "spark-3.0.3-bin-hadoop2.7\n"
     ]
    }
   ],
   "source": [
    "print(os.environ[\"SPARK_HOME\"])"
   ]
  },
  {
   "cell_type": "code",
   "execution_count": 3,
   "metadata": {},
   "outputs": [
    {
     "name": "stdout",
     "output_type": "stream",
     "text": [
      "/usr/lib/jvm/java-11-openjdk-amd64\n"
     ]
    }
   ],
   "source": [
    "print(os.environ[\"JAVA_HOME\"])"
   ]
  },
  {
   "cell_type": "code",
   "execution_count": 4,
   "metadata": {
    "id": "3TCKZdrnEZRT"
   },
   "outputs": [],
   "source": [
    "import findspark\n",
    "findspark.init()"
   ]
  },
  {
   "cell_type": "code",
   "execution_count": 5,
   "metadata": {
    "colab": {
     "base_uri": "https://localhost:8080/",
     "height": 36
    },
    "id": "KbttRpCtEa60",
    "outputId": "cb2d2b30-0ca4-4b59-ee9d-943cb85007ee"
   },
   "outputs": [
    {
     "data": {
      "text/plain": [
       "'spark-3.0.3-bin-hadoop2.7'"
      ]
     },
     "execution_count": 5,
     "metadata": {},
     "output_type": "execute_result"
    }
   ],
   "source": [
    "findspark.find()"
   ]
  },
  {
   "cell_type": "code",
   "execution_count": 6,
   "metadata": {
    "id": "CIr2SMmLEeUH",
    "scrolled": true
   },
   "outputs": [],
   "source": [
    "from pyspark.sql import SparkSession\n",
    "\n",
    "spark = SparkSession.builder\\\n",
    "        .master(\"local\")\\\n",
    "        .appName(\"Test\")\\\n",
    "        .config(\"spark.driver.extraClassPath\", \"elasticsearch-hadoop-7.6.2/dist/elasticsearch-spark-20_2.11-7.6.2.jar\") \\\n",
    "        .config(\"spark.executor.memory\", \"4g\")\\\n",
    "        .config(\"spark.driver.memory\", \"4g\")\\\n",
    "        .config(\"spark.cores.max\", \"2\")\\\n",
    "        .getOrCreate()"
   ]
  },
  {
   "cell_type": "code",
   "execution_count": 7,
   "metadata": {
    "colab": {
     "base_uri": "https://localhost:8080/",
     "height": 222
    },
    "id": "6O2bybhYEgl6",
    "outputId": "101362b5-7ad0-4334-b6aa-150089191dd9"
   },
   "outputs": [
    {
     "data": {
      "text/html": [
       "\n",
       "            <div>\n",
       "                <p><b>SparkSession - in-memory</b></p>\n",
       "                \n",
       "        <div>\n",
       "            <p><b>SparkContext</b></p>\n",
       "\n",
       "            <p><a href=\"http://ctr730583:4040\">Spark UI</a></p>\n",
       "\n",
       "            <dl>\n",
       "              <dt>Version</dt>\n",
       "                <dd><code>v3.0.3</code></dd>\n",
       "              <dt>Master</dt>\n",
       "                <dd><code>local</code></dd>\n",
       "              <dt>AppName</dt>\n",
       "                <dd><code>Test</code></dd>\n",
       "            </dl>\n",
       "        </div>\n",
       "        \n",
       "            </div>\n",
       "        "
      ],
      "text/plain": [
       "<pyspark.sql.session.SparkSession at 0x7fdb35451b10>"
      ]
     },
     "execution_count": 7,
     "metadata": {},
     "output_type": "execute_result"
    }
   ],
   "source": [
    "spark"
   ]
  },
  {
   "cell_type": "code",
   "execution_count": 8,
   "metadata": {
    "colab": {
     "base_uri": "https://localhost:8080/"
    },
    "id": "ssNs59vwGBjo",
    "outputId": "8316b556-a7fe-4d33-be1a-5ff711dea426"
   },
   "outputs": [
    {
     "name": "stdout",
     "output_type": "stream",
     "text": [
      "{\r\n",
      "  \"name\" : \"ctr730583\",\r\n",
      "  \"cluster_name\" : \"elasticsearch\",\r\n",
      "  \"cluster_uuid\" : \"5QKgMmS8QNm-Td-GAv_0Vw\",\r\n",
      "  \"version\" : {\r\n",
      "    \"number\" : \"7.6.2\",\r\n",
      "    \"build_flavor\" : \"default\",\r\n",
      "    \"build_type\" : \"tar\",\r\n",
      "    \"build_hash\" : \"ef48eb35cf30adf4db14086e8aabd07ef6fb113f\",\r\n",
      "    \"build_date\" : \"2020-03-26T06:34:37.794943Z\",\r\n",
      "    \"build_snapshot\" : false,\r\n",
      "    \"lucene_version\" : \"8.4.0\",\r\n",
      "    \"minimum_wire_compatibility_version\" : \"6.8.0\",\r\n",
      "    \"minimum_index_compatibility_version\" : \"6.0.0-beta1\"\r\n",
      "  },\r\n",
      "  \"tagline\" : \"You Know, for Search\"\r\n",
      "}\r\n"
     ]
    }
   ],
   "source": [
    "!curl -X GET \"localhost:9200/\""
   ]
  },
  {
   "cell_type": "code",
   "execution_count": 9,
   "metadata": {
    "id": "OjcfpIDgEh3Q"
   },
   "outputs": [],
   "source": [
    "import json\n",
    "\n",
    "es_write_conf = { \"es.nodes\": \"localhost\", \"es.batch.size.entries\": \"1\" ,\"es.port\" : \"9200\", \"es.resource\" : \"testindex/testdoc\", \"es.input.json\" : \"yes\", \"es.mapping.id\": \"doc_id\" }\n",
    "\n",
    "data = [ {'some_key': 'some_value', 'doc_id': 123}, {'some_key': 'some_value', 'doc_id': 456}, {'some_key': 'some_value', 'doc_id': 789} ]\n",
    "rdd = spark.sparkContext.parallelize(data)\n",
    "\n",
    "def format_data(x):\n",
    "    return (x['doc_id'], json.dumps(x))\n",
    "\n",
    "rdd = rdd.map(lambda x: format_data(x))\n",
    "\n",
    "# rdd.saveAsNewAPIHadoopFile( \\\n",
    "#     path='-', \\\n",
    "#     outputFormatClass=\"org.elasticsearch.hadoop.mr.EsOutputFormat\", \\\n",
    "#     keyClass=\"org.apache.hadoop.io.NullWritable\", \\\n",
    "#     valueClass=\"org.elasticsearch.hadoop.mr.LinkedMapWritable\", \\\n",
    "#     conf=es_write_conf)"
   ]
  },
  {
   "cell_type": "code",
   "execution_count": 10,
   "metadata": {
    "id": "QRDGmy8NNi4g"
   },
   "outputs": [
    {
     "data": {
      "text/plain": [
       "[(123, '{\"some_key\": \"some_value\", \"doc_id\": 123}'),\n",
       " (456, '{\"some_key\": \"some_value\", \"doc_id\": 456}'),\n",
       " (789, '{\"some_key\": \"some_value\", \"doc_id\": 789}')]"
      ]
     },
     "execution_count": 10,
     "metadata": {},
     "output_type": "execute_result"
    }
   ],
   "source": [
    "rdd.collect()"
   ]
  },
  {
   "cell_type": "code",
   "execution_count": 11,
   "metadata": {
    "id": "4xSkSCwBOy2s"
   },
   "outputs": [],
   "source": [
    "rdd.saveAsNewAPIHadoopFile( \\\n",
    "    path='-', \\\n",
    "    outputFormatClass=\"org.elasticsearch.hadoop.mr.EsOutputFormat\", \\\n",
    "    keyClass=\"org.apache.hadoop.io.NullWritable\", \\\n",
    "    valueClass=\"org.elasticsearch.hadoop.mr.LinkedMapWritable\", \\\n",
    "    conf=es_write_conf)"
   ]
  },
  {
   "cell_type": "code",
   "execution_count": 12,
   "metadata": {
    "id": "W3oQecy8P_19"
   },
   "outputs": [
    {
     "name": "stdout",
     "output_type": "stream",
     "text": [
      "{\"took\":58,\"timed_out\":false,\"_shards\":{\"total\":1,\"successful\":1,\"skipped\":0,\"failed\":0},\"hits\":{\"total\":{\"value\":3,\"relation\":\"eq\"},\"max_score\":1.0,\"hits\":[{\"_index\":\"testindex\",\"_type\":\"testdoc\",\"_id\":\"123\",\"_score\":1.0,\"_source\":{\"some_key\": \"some_value\", \"doc_id\": 123}},{\"_index\":\"testindex\",\"_type\":\"testdoc\",\"_id\":\"456\",\"_score\":1.0,\"_source\":{\"some_key\": \"some_value\", \"doc_id\": 456}},{\"_index\":\"testindex\",\"_type\":\"testdoc\",\"_id\":\"789\",\"_score\":1.0,\"_source\":{\"some_key\": \"some_value\", \"doc_id\": 789}}]}}"
     ]
    }
   ],
   "source": [
    "!curl -X GET 'localhost:9200/testindex/_search'"
   ]
  },
  {
   "cell_type": "code",
   "execution_count": 13,
   "metadata": {},
   "outputs": [
    {
     "name": "stdout",
     "output_type": "stream",
     "text": [
      "{\"acknowledged\":true}"
     ]
    }
   ],
   "source": [
    "!curl -X DELETE localhost:9200/testindex"
   ]
  },
  {
   "cell_type": "markdown",
   "metadata": {
    "id": "PzPMwU62s_Py"
   },
   "source": [
    "## *Install sample data*"
   ]
  },
  {
   "cell_type": "code",
   "execution_count": 14,
   "metadata": {
    "colab": {
     "base_uri": "https://localhost:8080/"
    },
    "id": "3USmf9w53rbE",
    "outputId": "9799cbf9-afc8-444d-a5ab-b96a215bd393"
   },
   "outputs": [],
   "source": [
    "#!wget http://files.grouplens.org/datasets/movielens/ml-latest-small.zip\n",
    "#!unzip ml-latest-small.zip\n",
    "PATH_TO_DATA = \"ml-latest-small\""
   ]
  },
  {
   "cell_type": "markdown",
   "metadata": {
    "id": "G6u1QncM4RA_"
   },
   "source": [
    "## *Install elasticsearch from pypi to use a client instance*"
   ]
  },
  {
   "cell_type": "code",
   "execution_count": 15,
   "metadata": {
    "colab": {
     "base_uri": "https://localhost:8080/"
    },
    "id": "d7hxOhQqqtTU",
    "outputId": "f7047f9c-4cff-4086-c35a-c5a1c9326b18"
   },
   "outputs": [],
   "source": [
    "#!pip install elasticsearch"
   ]
  },
  {
   "cell_type": "code",
   "execution_count": 16,
   "metadata": {
    "id": "q1WwuZmarZRl"
   },
   "outputs": [],
   "source": [
    "import time\n",
    "from elasticsearch import Elasticsearch\n",
    "es = Elasticsearch([{'host': 'localhost', 'port': 9200}], timeout=60, max_retries=10, retry_on_timeout=True)"
   ]
  },
  {
   "cell_type": "code",
   "execution_count": 17,
   "metadata": {
    "colab": {
     "base_uri": "https://localhost:8080/"
    },
    "id": "0Xu1e3YAtj7B",
    "outputId": "4a07be05-a260-4476-ceb6-098d59c06fc0"
   },
   "outputs": [
    {
     "data": {
      "text/plain": [
       "{'name': 'ctr730583',\n",
       " 'cluster_name': 'elasticsearch',\n",
       " 'cluster_uuid': '5QKgMmS8QNm-Td-GAv_0Vw',\n",
       " 'version': {'number': '7.6.2',\n",
       "  'build_flavor': 'default',\n",
       "  'build_type': 'tar',\n",
       "  'build_hash': 'ef48eb35cf30adf4db14086e8aabd07ef6fb113f',\n",
       "  'build_date': '2020-03-26T06:34:37.794943Z',\n",
       "  'build_snapshot': False,\n",
       "  'lucene_version': '8.4.0',\n",
       "  'minimum_wire_compatibility_version': '6.8.0',\n",
       "  'minimum_index_compatibility_version': '6.0.0-beta1'},\n",
       " 'tagline': 'You Know, for Search'}"
      ]
     },
     "execution_count": 17,
     "metadata": {},
     "output_type": "execute_result"
    }
   ],
   "source": [
    "es.info()"
   ]
  },
  {
   "cell_type": "markdown",
   "metadata": {
    "id": "I__xAVksP34k"
   },
   "source": [
    "# **Insert**"
   ]
  },
  {
   "cell_type": "markdown",
   "metadata": {
    "id": "lxwvEP4EqpDu"
   },
   "source": [
    "## *Spark insert to ES*"
   ]
  },
  {
   "cell_type": "markdown",
   "metadata": {
    "id": "PpulQ0rQ6-FR"
   },
   "source": [
    "### Load rating data"
   ]
  },
  {
   "cell_type": "code",
   "execution_count": 18,
   "metadata": {
    "colab": {
     "base_uri": "https://localhost:8080/"
    },
    "id": "dFIzvlgP7A-5",
    "outputId": "082677bd-ac2b-45a9-de74-6b5a2eabe09f"
   },
   "outputs": [
    {
     "name": "stdout",
     "output_type": "stream",
     "text": [
      "Number of ratings: 100836\n",
      "Sample of ratings:\n",
      "+------+-------+------+---------+\n",
      "|userId|movieId|rating|timestamp|\n",
      "+------+-------+------+---------+\n",
      "|     1|      1|   4.0|964982703|\n",
      "|     1|      3|   4.0|964981247|\n",
      "|     1|      6|   4.0|964982224|\n",
      "|     1|     47|   5.0|964983815|\n",
      "|     1|     50|   5.0|964982931|\n",
      "+------+-------+------+---------+\n",
      "only showing top 5 rows\n",
      "\n"
     ]
    }
   ],
   "source": [
    "ratings = spark.read.csv(PATH_TO_DATA + \"/ratings.csv\", header=True, inferSchema=True)\n",
    "ratings.cache()\n",
    "print(\"Number of ratings: {}\".format(ratings.count()))\n",
    "print(\"Sample of ratings:\")\n",
    "ratings.show(5)"
   ]
  },
  {
   "cell_type": "markdown",
   "metadata": {
    "id": "2459TBEtgEUC"
   },
   "source": [
    "### Insert by saveAsNewAPIHadoopFile()"
   ]
  },
  {
   "cell_type": "code",
   "execution_count": 19,
   "metadata": {
    "id": "CK-tHCMsYd57"
   },
   "outputs": [],
   "source": [
    "rddtest2 = ratings.rdd.map(lambda x : json.dumps({'userId': x[0], 'movieId': x[1], 'rating': x[2], 'timestamp': x[3]}))"
   ]
  },
  {
   "cell_type": "code",
   "execution_count": 20,
   "metadata": {
    "id": "6PxE328JYyC1"
   },
   "outputs": [],
   "source": [
    "rddtest3 = rddtest2.zipWithIndex().map(lambda x: (x[1], x[0]))"
   ]
  },
  {
   "cell_type": "code",
   "execution_count": 21,
   "metadata": {
    "id": "a_RV6ChXb3AM"
   },
   "outputs": [
    {
     "name": "stdout",
     "output_type": "stream",
     "text": [
      "Time spark insert to es by saveAsNewAPIHadoopFIle(): 7.358740568161011\n"
     ]
    }
   ],
   "source": [
    "es_write_conf = { \"es.nodes\": \"localhost\",\"es.port\" : \"9200\", \"es.resource\" : \"testindex3/testdoc\", \"es.input.json\" : \"yes\" }\n",
    "current_time = time.time()\n",
    "rddtest3.saveAsNewAPIHadoopFile( \\\n",
    "    path='-', \\\n",
    "    outputFormatClass=\"org.elasticsearch.hadoop.mr.EsOutputFormat\", \\\n",
    "    keyClass=\"org.apache.hadoop.io.NullWritable\", \\\n",
    "    valueClass=\"org.elasticsearch.hadoop.mr.LinkedMapWritable\", \\\n",
    "    conf=es_write_conf)\n",
    "print(\"Time spark insert to es by saveAsNewAPIHadoopFIle(): {}\".format(time.time() - current_time))"
   ]
  },
  {
   "cell_type": "code",
   "execution_count": 22,
   "metadata": {
    "id": "sMQEb2O5fFBW"
   },
   "outputs": [
    {
     "data": {
      "text/plain": [
       "{'took': 43,\n",
       " 'timed_out': False,\n",
       " '_shards': {'total': 1, 'successful': 1, 'skipped': 0, 'failed': 0},\n",
       " 'hits': {'total': {'value': 10000, 'relation': 'gte'},\n",
       "  'max_score': 1.0,\n",
       "  'hits': [{'_index': 'testindex3',\n",
       "    '_type': 'testdoc',\n",
       "    '_id': 'Fhnj430BX_kIPVutskDL',\n",
       "    '_score': 1.0,\n",
       "    '_source': {'userId': 1,\n",
       "     'movieId': 1,\n",
       "     'rating': 4.0,\n",
       "     'timestamp': 964982703}},\n",
       "   {'_index': 'testindex3',\n",
       "    '_type': 'testdoc',\n",
       "    '_id': 'Fxnj430BX_kIPVutskDL',\n",
       "    '_score': 1.0,\n",
       "    '_source': {'userId': 1,\n",
       "     'movieId': 3,\n",
       "     'rating': 4.0,\n",
       "     'timestamp': 964981247}},\n",
       "   {'_index': 'testindex3',\n",
       "    '_type': 'testdoc',\n",
       "    '_id': 'GBnj430BX_kIPVutskDL',\n",
       "    '_score': 1.0,\n",
       "    '_source': {'userId': 1,\n",
       "     'movieId': 6,\n",
       "     'rating': 4.0,\n",
       "     'timestamp': 964982224}}]}}"
      ]
     },
     "execution_count": 22,
     "metadata": {},
     "output_type": "execute_result"
    }
   ],
   "source": [
    "es.search(index=\"testindex3\", q=\"*\", size=3)"
   ]
  },
  {
   "cell_type": "markdown",
   "metadata": {
    "id": "Lo2QGMx64Ajm"
   },
   "source": [
    "## *Normally insert to ES*"
   ]
  },
  {
   "cell_type": "code",
   "execution_count": 23,
   "metadata": {
    "id": "J2_1NT6fy9C2"
   },
   "outputs": [
    {
     "name": "stdout",
     "output_type": "stream",
     "text": [
      "        userId  movieId  rating   timestamp\n",
      "0            1        1     4.0   964982703\n",
      "1            1        3     4.0   964981247\n",
      "2            1        6     4.0   964982224\n",
      "3            1       47     5.0   964983815\n",
      "4            1       50     5.0   964982931\n",
      "...        ...      ...     ...         ...\n",
      "100831     610   166534     4.0  1493848402\n",
      "100832     610   168248     5.0  1493850091\n",
      "100833     610   168250     5.0  1494273047\n",
      "100834     610   168252     5.0  1493846352\n",
      "100835     610   170875     3.0  1493846415\n",
      "\n",
      "[100836 rows x 4 columns]\n"
     ]
    }
   ],
   "source": [
    "import pandas as pd\n",
    "df = pd.read_csv(PATH_TO_DATA + '/ratings.csv')\n",
    "print(df)"
   ]
  },
  {
   "cell_type": "code",
   "execution_count": 24,
   "metadata": {
    "id": "cDP6jsFn1l7h"
   },
   "outputs": [],
   "source": [
    "documents = df.to_dict(orient='records')"
   ]
  },
  {
   "cell_type": "code",
   "execution_count": 25,
   "metadata": {
    "id": "XIZW6H8fyUYE"
   },
   "outputs": [
    {
     "name": "stderr",
     "output_type": "stream",
     "text": [
      "/miniconda3/conda/lib/python3.7/site-packages/elasticsearch/connection/base.py:209: ElasticsearchWarning: [types removal] Specifying types in bulk requests is deprecated.\n",
      "  warnings.warn(message, category=ElasticsearchWarning)\n"
     ]
    },
    {
     "name": "stdout",
     "output_type": "stream",
     "text": [
      "(100836, [])\n",
      "8.93069839477539\n"
     ]
    }
   ],
   "source": [
    "from elasticsearch.helpers import bulk\n",
    "\n",
    "current_time = time.time()\n",
    "print(bulk(es, documents, index='test-ratings', doc_type='test-ratings-type', raise_on_error=True))\n",
    "normally_insert_time = time.time() - current_time\n",
    "print(normally_insert_time)"
   ]
  },
  {
   "cell_type": "code",
   "execution_count": 26,
   "metadata": {
    "id": "2x9swFTw2IF-"
   },
   "outputs": [
    {
     "data": {
      "text/plain": [
       "{'took': 11,\n",
       " 'timed_out': False,\n",
       " '_shards': {'total': 1, 'successful': 1, 'skipped': 0, 'failed': 0},\n",
       " 'hits': {'total': {'value': 10000, 'relation': 'gte'},\n",
       "  'max_score': 1.0,\n",
       "  'hits': [{'_index': 'test-ratings',\n",
       "    '_type': 'test-ratings-type',\n",
       "    '_id': '-hrj430BX_kIPVut0Mnf',\n",
       "    '_score': 1.0,\n",
       "    '_source': {'userId': 1,\n",
       "     'movieId': 1,\n",
       "     'rating': 4.0,\n",
       "     'timestamp': 964982703}},\n",
       "   {'_index': 'test-ratings',\n",
       "    '_type': 'test-ratings-type',\n",
       "    '_id': '-xrj430BX_kIPVut0Mng',\n",
       "    '_score': 1.0,\n",
       "    '_source': {'userId': 1,\n",
       "     'movieId': 3,\n",
       "     'rating': 4.0,\n",
       "     'timestamp': 964981247}},\n",
       "   {'_index': 'test-ratings',\n",
       "    '_type': 'test-ratings-type',\n",
       "    '_id': '_Brj430BX_kIPVut0Mng',\n",
       "    '_score': 1.0,\n",
       "    '_source': {'userId': 1,\n",
       "     'movieId': 6,\n",
       "     'rating': 4.0,\n",
       "     'timestamp': 964982224}}]}}"
      ]
     },
     "execution_count": 26,
     "metadata": {},
     "output_type": "execute_result"
    }
   ],
   "source": [
    "es.search(index=\"test-ratings\", q=\"*\", size=3)"
   ]
  },
  {
   "cell_type": "markdown",
   "metadata": {
    "id": "g4VwXR-EUUnH"
   },
   "source": [
    "## *Parallel insert*"
   ]
  },
  {
   "cell_type": "code",
   "execution_count": 27,
   "metadata": {
    "id": "xg2vW2BdcX5T"
   },
   "outputs": [
    {
     "name": "stdout",
     "output_type": "stream",
     "text": [
      "Time parallel insert: 4.729877710342407\n"
     ]
    }
   ],
   "source": [
    "from elasticsearch.helpers import parallel_bulk\n",
    "from collections import deque\n",
    "\n",
    "current_time = time.time()\n",
    "deque(parallel_bulk(es, documents, index=\"ratings-test-parallel\", thread_count=2, queue_size=2), maxlen = 0)\n",
    "print(\"Time parallel insert: {}\".format(time.time() - current_time))"
   ]
  },
  {
   "cell_type": "code",
   "execution_count": 28,
   "metadata": {
    "id": "rg2V4Ei_dCOz"
   },
   "outputs": [
    {
     "name": "stdout",
     "output_type": "stream",
     "text": [
      "{\"acknowledged\":true}"
     ]
    }
   ],
   "source": [
    "!curl -XPUT \"http://localhost:9200/ratings-test-parallel/_settings\" -d '{ \"index\" : { \"max_result_window\" : 200000 } }' -H \"Content-Type: application/json\""
   ]
  },
  {
   "cell_type": "code",
   "execution_count": 29,
   "metadata": {
    "id": "_ihCu0i8c5WI"
   },
   "outputs": [
    {
     "data": {
      "text/plain": [
       "93500"
      ]
     },
     "execution_count": 29,
     "metadata": {},
     "output_type": "execute_result"
    }
   ],
   "source": [
    "res = es.search(index=\"ratings-test-parallel\", size=200000)\n",
    "len(res['hits']['hits'])"
   ]
  },
  {
   "cell_type": "markdown",
   "metadata": {
    "id": "J0SwQFMkQA3j"
   },
   "source": [
    "# **Query**"
   ]
  },
  {
   "cell_type": "markdown",
   "metadata": {
    "id": "E1tpbnVKGg-z"
   },
   "source": [
    "## Spark query"
   ]
  },
  {
   "cell_type": "code",
   "execution_count": 30,
   "metadata": {
    "id": "sFvuO7nPNTmK"
   },
   "outputs": [],
   "source": [
    "q0 =\"\"\"{\n",
    "  \"match\": {\n",
    "      \"movieId\": 3\n",
    "      }\n",
    "}\"\"\"\n",
    "\n",
    "q1 = \"\"\"\n",
    "  {\n",
    "    \"match\": {\n",
    "      \"rating\": 4.0\n",
    "    }\n",
    "  }\n",
    "\"\"\"\n",
    "\n",
    "q = \"\"\"\n",
    "  {\n",
    "    \"match_all\": {}\n",
    "  }\n",
    "\"\"\""
   ]
  },
  {
   "cell_type": "markdown",
   "metadata": {
    "id": "KFFrFsRsGw9X"
   },
   "source": [
    "### Use newApiHadoopRDD()"
   ]
  },
  {
   "cell_type": "code",
   "execution_count": 31,
   "metadata": {
    "colab": {
     "base_uri": "https://localhost:8080/"
    },
    "id": "uFjyGsdiyIL0",
    "outputId": "35d2567b-ba44-4f52-f60c-6491fbc12c22"
   },
   "outputs": [
    {
     "name": "stdout",
     "output_type": "stream",
     "text": [
      "Time run newApiHadoopRDD: 75.33798003196716\n"
     ]
    },
    {
     "data": {
      "text/plain": [
       "52"
      ]
     },
     "execution_count": 31,
     "metadata": {},
     "output_type": "execute_result"
    }
   ],
   "source": [
    "es_read_conf = {\n",
    "    \"es.nodes\" : \"localhost\",\n",
    "    \"es.port\" : \"9200\",\n",
    "    \"es.resource\" : \"testindex3/\",\n",
    "    \"es.query\" : q0\n",
    "}\n",
    "current_time = time.time()\n",
    "for i in range(1000):\n",
    "  es_rddtestest = spark.sparkContext.newAPIHadoopRDD(\n",
    "        inputFormatClass=\"org.elasticsearch.hadoop.mr.EsInputFormat\",\n",
    "        keyClass=\"org.apache.hadoop.io.NullWritable\", \n",
    "        valueClass=\"org.elasticsearch.hadoop.mr.LinkedMapWritable\", \n",
    "        conf=es_read_conf)\n",
    "print(\"Time run newApiHadoopRDD: {}\".format(time.time() - current_time))\n",
    "es_rddtestest.count()"
   ]
  },
  {
   "cell_type": "markdown",
   "metadata": {
    "id": "zeLK4EHROxnY"
   },
   "source": [
    "## Normally query"
   ]
  },
  {
   "cell_type": "code",
   "execution_count": 32,
   "metadata": {
    "colab": {
     "base_uri": "https://localhost:8080/"
    },
    "id": "vMFUG11QTRd7",
    "outputId": "d0387e22-8616-40ea-8953-1a64eef50d79"
   },
   "outputs": [
    {
     "name": "stdout",
     "output_type": "stream",
     "text": [
      "{\"acknowledged\":true}"
     ]
    }
   ],
   "source": [
    "!curl -XPUT \"http://localhost:9200/testindex3/_settings\" -d '{ \"index\" : { \"max_result_window\" : 200000 } }' -H \"Content-Type: application/json\""
   ]
  },
  {
   "cell_type": "code",
   "execution_count": 33,
   "metadata": {
    "colab": {
     "base_uri": "https://localhost:8080/"
    },
    "id": "lj_hO4jFy8BP",
    "outputId": "f2a47854-be84-44ff-978b-f99e98b51bd3"
   },
   "outputs": [
    {
     "name": "stdout",
     "output_type": "stream",
     "text": [
      "Time run normally query: 3.1915009021759033\n"
     ]
    },
    {
     "data": {
      "text/plain": [
       "52"
      ]
     },
     "execution_count": 33,
     "metadata": {},
     "output_type": "execute_result"
    }
   ],
   "source": [
    "current_time = time.time()\n",
    "for i in range(1000):\n",
    "  restestesetest = es.search(index=\"testindex3\", query={\"match\": {\n",
    "        \"movieId\": 3\n",
    "        }}, size=52)\n",
    "print(\"Time run normally query: {}\".format(time.time() - current_time))\n",
    "len(restestesetest['hits']['hits'])"
   ]
  },
  {
   "cell_type": "markdown",
   "metadata": {
    "id": "eLToWgqsUgUT"
   },
   "source": [
    "## *Multi query*"
   ]
  },
  {
   "cell_type": "code",
   "execution_count": 34,
   "metadata": {
    "colab": {
     "base_uri": "https://localhost:8080/"
    },
    "id": "s-ES7TeTUi4P",
    "outputId": "98e5d172-99c7-4c38-a4d6-38a147e5e99b"
   },
   "outputs": [
    {
     "name": "stdout",
     "output_type": "stream",
     "text": [
      "Test multi queries time: 1.078413486480713\n"
     ]
    }
   ],
   "source": [
    "import json\n",
    "import logging\n",
    "from elasticsearch import exceptions as es_exceptions\n",
    "\n",
    "def msearch(es_conn, queries):\n",
    "    request = ''\n",
    "    for each in queries:\n",
    "        request += '%s \\n' %json.dumps(each)\n",
    "    return es.msearch(body = request)\n",
    "\n",
    "queries = []\n",
    "for i in range(1000):\n",
    "  queries.append(\n",
    "    {\"index\": \"testindex3\"}\n",
    "  )\n",
    "  queries.append(\n",
    "      {\"query\": {\n",
    "        \"match\": {\n",
    "          \"movieId\": 3\n",
    "          }\n",
    "        },\"size\": 26818\n",
    "      }\n",
    "  )\n",
    "# queries.append(\n",
    "#     {\"index\": \"ratings\"}\n",
    "# )\n",
    "# queries.append(\n",
    "#     {\"query\": {\n",
    "#       \"match_all\": {}\n",
    "#       },\"size\": 200000\n",
    "#     }\n",
    "# )\n",
    "# queries.append(\n",
    "#     {\"index\": \"ratings\"}\n",
    "# )\n",
    "# queries.append(\n",
    "#     {\"query\": {\n",
    "#       \"match\": {\n",
    "#         \"movieId\": 3\n",
    "#         }\n",
    "#       },\"size\": 200000\n",
    "#     }\n",
    "# )\n",
    "# queries.append(\n",
    "#     {\"index\": \"ratings\"}\n",
    "# )\n",
    "# queries.append(\n",
    "#   {\"query\": {\n",
    "#       \"match\": {\n",
    "#         \"rating\": 4.0\n",
    "#       }\n",
    "#     },\"size\": 200000\n",
    "#   }\n",
    "# )\n",
    "current_time = time.time()\n",
    "q_results = msearch(es, queries)\n",
    "print(\"Test multi queries time: {}\".format(time.time() - current_time))"
   ]
  },
  {
   "cell_type": "code",
   "execution_count": 2,
   "metadata": {},
   "outputs": [],
   "source": [
    "current_time = time.time()\n",
    "q_results_2 = msearch(es, queries)\n",
    "for i in q_results_2[\"responses\"]:\n",
    "    rdd_new = spark.sparkContext.parallelize(i['hits']['hits'])\n",
    "print(time.time() - current_time)"
   ]
  },
  {
   "cell_type": "code",
   "execution_count": 35,
   "metadata": {
    "colab": {
     "base_uri": "https://localhost:8080/"
    },
    "id": "FbcH3pL-osUo",
    "outputId": "c2d18455-7ef9-4654-cb8a-77a108bf48b4"
   },
   "outputs": [
    {
     "data": {
      "text/plain": [
       "52"
      ]
     },
     "execution_count": 35,
     "metadata": {},
     "output_type": "execute_result"
    }
   ],
   "source": [
    "len(q_results[\"responses\"][0]['hits']['hits'])"
   ]
  },
  {
   "cell_type": "code",
   "execution_count": 36,
   "metadata": {
    "colab": {
     "base_uri": "https://localhost:8080/"
    },
    "id": "B9-F_KX_pUFt",
    "outputId": "1ac38b11-9be8-49e9-da98-7b66b65e96e3"
   },
   "outputs": [
    {
     "data": {
      "text/plain": [
       "52"
      ]
     },
     "execution_count": 36,
     "metadata": {},
     "output_type": "execute_result"
    }
   ],
   "source": [
    "len(q_results[\"responses\"][1]['hits']['hits'])"
   ]
  },
  {
   "cell_type": "code",
   "execution_count": 37,
   "metadata": {},
   "outputs": [
    {
     "name": "stdout",
     "output_type": "stream",
     "text": [
      "{\"acknowledged\":true}"
     ]
    }
   ],
   "source": [
    "!curl -X DELETE localhost:9200/testindex3"
   ]
  },
  {
   "cell_type": "code",
   "execution_count": 38,
   "metadata": {},
   "outputs": [
    {
     "name": "stdout",
     "output_type": "stream",
     "text": [
      "{\"acknowledged\":true}"
     ]
    }
   ],
   "source": [
    "!curl -X DELETE localhost:9200/ratings-test-parallel"
   ]
  },
  {
   "cell_type": "code",
   "execution_count": 39,
   "metadata": {},
   "outputs": [
    {
     "name": "stdout",
     "output_type": "stream",
     "text": [
      "{\"acknowledged\":true}"
     ]
    }
   ],
   "source": [
    "!curl -X DELETE localhost:9200/test-ratings"
   ]
  }
 ],
 "metadata": {
  "colab": {
   "collapsed_sections": [
    "nO6YnJh8PyDn",
    "I__xAVksP34k",
    "J0SwQFMkQA3j"
   ],
   "name": "es-spark2.ipynb",
   "provenance": []
  },
  "kernelspec": {
   "display_name": "Python 3",
   "language": "python",
   "name": "python3"
  },
  "language_info": {
   "codemirror_mode": {
    "name": "ipython",
    "version": 3
   },
   "file_extension": ".py",
   "mimetype": "text/x-python",
   "name": "python",
   "nbconvert_exporter": "python",
   "pygments_lexer": "ipython3",
   "version": "3.7.9"
  }
 },
 "nbformat": 4,
 "nbformat_minor": 1
}
